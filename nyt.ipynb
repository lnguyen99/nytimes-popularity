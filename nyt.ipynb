{
 "cells": [
  {
   "cell_type": "code",
   "execution_count": 72,
   "id": "scheduled-projection",
   "metadata": {},
   "outputs": [],
   "source": [
    "import pandas as pd\n",
    "import numpy as np \n",
    "import matplotlib.pyplot as plt \n",
    "import seaborn as sns \n",
    "import sklearn\n",
    "import sklearn.preprocessing\n",
    "import re"
   ]
  },
  {
   "cell_type": "code",
   "execution_count": 73,
   "id": "cooperative-february",
   "metadata": {},
   "outputs": [],
   "source": [
    "df = pd.read_csv(\"train.csv\")\n",
    "# maybe look into pub date/hour?\n",
    "df = df.drop(['uniqueID', 'subsection','pub_date'], axis=1)\n",
    "df['abstract'] = df['abstract'].astype(str)"
   ]
  },
  {
   "cell_type": "code",
   "execution_count": 74,
   "id": "convenient-installation",
   "metadata": {},
   "outputs": [],
   "source": [
    "# List of the column names with features that should be ordinal encoded\n",
    "ordinal_features = ['newsdesk', 'section', 'material']\n",
    "\n",
    "# Ordinal encode all of these features\n",
    "ordinal = sklearn.preprocessing.OrdinalEncoder()\n",
    "df[ordinal_features] = ordinal.fit_transform(df[ordinal_features])"
   ]
  },
  {
   "cell_type": "code",
   "execution_count": 75,
   "id": "entertaining-classic",
   "metadata": {},
   "outputs": [],
   "source": [
    "from sklearn.feature_extraction.text import HashingVectorizer\n",
    "vectorizer = HashingVectorizer(n_features=2**4)"
   ]
  },
  {
   "cell_type": "code",
   "execution_count": 69,
   "id": "aging-train",
   "metadata": {},
   "outputs": [],
   "source": [
    "# abstract\n",
    "encoded_abstract = pd.DataFrame(vectorizer.fit_transform(df['abstract']).A)\n",
    "df = pd.concat([df.reset_index(drop=True), encoded_abstract.reset_index(drop=True)], axis=1)\n",
    "\n",
    "# # headline\n",
    "# encoded_headline = pd.DataFrame(vectorizer.fit_transform(df['headline']).A)\n",
    "# df = pd.concat([df.reset_index(drop=True), encoded_headline.reset_index(drop=True)], axis=1)"
   ]
  },
  {
   "cell_type": "code",
   "execution_count": 76,
   "id": "divided-playlist",
   "metadata": {},
   "outputs": [
    {
     "name": "stdout",
     "output_type": "stream",
     "text": [
      "0.6869871043376319\n"
     ]
    }
   ],
   "source": [
    "import sklearn.model_selection\n",
    "import sklearn.neighbors\n",
    "\n",
    "y = df['is_popular']\n",
    "X = df.drop(['headline', 'keywords', 'n_comments', 'abstract', 'is_popular'], axis=1)\n",
    "\n",
    "# 80/20 train/test split\n",
    "X_train, X_test, y_train, y_test = sklearn.model_selection.train_test_split(X, y, test_size=0.2, shuffle=True)\n",
    "\n",
    "# create classifiers\n",
    "knn = sklearn.neighbors.KNeighborsClassifier(n_neighbors=5)\n",
    "\n",
    "# train classifiers\n",
    "knn.fit(X_train, y_train)\n",
    "\n",
    "# predict\n",
    "y_test_pred = knn.predict(X_test)\n",
    "\n",
    "accuracy = sklearn.metrics.accuracy_score(y_test, y_test_pred)\n",
    "print(accuracy)"
   ]
  },
  {
   "cell_type": "code",
   "execution_count": 78,
   "id": "continuing-papua",
   "metadata": {},
   "outputs": [
    {
     "data": {
      "text/plain": [
       "0        1\n",
       "1        1\n",
       "2        0\n",
       "3        0\n",
       "4        0\n",
       "        ..\n",
       "12787    1\n",
       "12788    0\n",
       "12789    1\n",
       "12790    1\n",
       "12791    1\n",
       "Name: is_popular, Length: 12792, dtype: int64"
      ]
     },
     "execution_count": 78,
     "metadata": {},
     "output_type": "execute_result"
    }
   ],
   "source": [
    "y"
   ]
  },
  {
   "cell_type": "code",
   "execution_count": null,
   "id": "prescription-differential",
   "metadata": {},
   "outputs": [],
   "source": []
  }
 ],
 "metadata": {
  "kernelspec": {
   "display_name": "Python 3",
   "language": "python",
   "name": "python3"
  },
  "language_info": {
   "codemirror_mode": {
    "name": "ipython",
    "version": 3
   },
   "file_extension": ".py",
   "mimetype": "text/x-python",
   "name": "python",
   "nbconvert_exporter": "python",
   "pygments_lexer": "ipython3",
   "version": "3.7.10"
  }
 },
 "nbformat": 4,
 "nbformat_minor": 5
}
