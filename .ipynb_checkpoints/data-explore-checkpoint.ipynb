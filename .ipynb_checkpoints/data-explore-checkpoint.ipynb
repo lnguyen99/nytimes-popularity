{
 "cells": [
  {
   "cell_type": "markdown",
   "id": "steady-corrections",
   "metadata": {},
   "source": [
    "#### Import necessary libraries "
   ]
  },
  {
   "cell_type": "code",
   "execution_count": 1,
   "id": "killing-society",
   "metadata": {},
   "outputs": [],
   "source": [
    "import pandas as pd\n",
    "import numpy as np \n",
    "import matplotlib.pyplot as plt \n",
    "import seaborn as sns \n",
    "import re\n",
    "import datetime as dt\n",
    "\n",
    "import sklearn\n",
    "import sklearn.preprocessing\n",
    "import sklearn.model_selection\n",
    "import sklearn.neighbors\n",
    "import sklearn.ensemble\n",
    "import sklearn.metrics as metrics\n",
    "from sklearn.feature_extraction.text import HashingVectorizer\n",
    "from sklearn.feature_extraction.text import TfidfVectorizer\n",
    "from sklearn.feature_extraction.text import CountVectorizer\n",
    "\n",
    "import nltk\n",
    "from nltk.tokenize import word_tokenize\n",
    "from nltk.stem import WordNetLemmatizer\n",
    "from nltk.corpus import stopwords"
   ]
  },
  {
   "cell_type": "code",
   "execution_count": 2,
   "id": "valued-shareware",
   "metadata": {},
   "outputs": [],
   "source": [
    "def get_popular_words(corpus, top_n):\n",
    "    vectorizer = CountVectorizer(stop_words='english')\n",
    "    X = vectorizer.fit_transform(corpus)\n",
    "    feature_array = vectorizer.get_feature_names()\n",
    "    top_words = sorted(list(zip(vectorizer.get_feature_names(), X.sum(0).getA1())), key=lambda x: x[1], reverse=True)[:top_n]\n",
    "    result = [x[0] for x in top_words]\n",
    "    print(top_words)\n",
    "    return result"
   ]
  },
  {
   "cell_type": "code",
   "execution_count": 3,
   "id": "physical-message",
   "metadata": {},
   "outputs": [],
   "source": [
    "def get_pw_from_file(filename, column, n_top):\n",
    "    df = pd.read_csv(filename)\n",
    "    \n",
    "    lemmatizer = WordNetLemmatizer()\n",
    "    stop_words = set(stopwords.words('english')) \n",
    "    df[column] = df[column].astype(str)\n",
    "    df = lemmatize_column(df, column, lemmatizer, stop_words)\n",
    "    popular_words = get_popular_words(df[column], n_top)\n",
    "    \n",
    "    return popular_words"
   ]
  },
  {
   "cell_type": "code",
   "execution_count": 4,
   "id": "informal-myanmar",
   "metadata": {},
   "outputs": [],
   "source": [
    "def process_sentence(sentence, lemmatizer, stop_words):\n",
    "    sentence = sentence.lower()\n",
    "    tokens = list(set(word_tokenize(sentence)))   \n",
    "    words = [lemmatizer.lemmatize(word) for word in tokens if word.isalpha() and word not in stop_words]\n",
    "    return \" \".join(words)"
   ]
  },
  {
   "cell_type": "code",
   "execution_count": 5,
   "id": "educational-failure",
   "metadata": {},
   "outputs": [],
   "source": [
    "def ord_encode(df, ordinal_features):\n",
    "    # Ordinal encode all of these features\n",
    "    ordinal = sklearn.preprocessing.OrdinalEncoder()\n",
    "    df[ordinal_features] = ordinal.fit_transform(df[ordinal_features])\n",
    "    return df"
   ]
  },
  {
   "cell_type": "code",
   "execution_count": 6,
   "id": "guilty-region",
   "metadata": {},
   "outputs": [],
   "source": [
    "def encode_language_column(df, col_name, popular_words = []):\n",
    "    vectorizer = CountVectorizer()\n",
    "    nc = vectorizer.fit_transform(df[col_name])\n",
    "    encoded_col = pd.DataFrame(nc.A, columns=vectorizer.get_feature_names())[popular_words]\n",
    "    df = pd.concat([df.reset_index(drop=True), encoded_col.reset_index(drop=True)], axis=1)\n",
    "    return df"
   ]
  },
  {
   "cell_type": "code",
   "execution_count": 7,
   "id": "intermediate-scout",
   "metadata": {},
   "outputs": [],
   "source": [
    "def lemmatize_column(df, col_name, lemmatizer, stop_words):\n",
    "    df[col_name] = df[col_name].map(lambda x: process_sentence(x, lemmatizer, stop_words))\n",
    "    return df"
   ]
  },
  {
   "cell_type": "code",
   "execution_count": 8,
   "id": "powered-lodging",
   "metadata": {},
   "outputs": [],
   "source": [
    "def open_and_preprocess(filename):\n",
    "    df = pd.read_csv(filename)\n",
    "    # create 2 new columns\n",
    "    df['week_day'] = df['pub_date'].map(lambda x: pd.Timestamp.to_pydatetime(pd.Timestamp(x)).weekday())\n",
    "    df['pub_hour'] = df['pub_date'].map(lambda x: pd.Timestamp.to_pydatetime(pd.Timestamp(x)).hour)\n",
    "    # ordinal encode\n",
    "    df = ord_encode(df, ['newsdesk', 'section', 'material'])\n",
    "    \n",
    "    df = df.drop(['uniqueID', 'subsection', 'pub_date', 'headline', 'abstract'], axis=1)\n",
    "    \n",
    "    return df"
   ]
  },
  {
   "cell_type": "code",
   "execution_count": 9,
   "id": "offshore-farming",
   "metadata": {},
   "outputs": [],
   "source": [
    "def process_column(df, column, n_top, popular_words = []):\n",
    "    lemmatizer = WordNetLemmatizer()\n",
    "    stop_words = set(stopwords.words('english')) \n",
    "    df[column] = df[column].astype(str)\n",
    "    df = lemmatize_column(df, column, lemmatizer, stop_words)\n",
    "    if len(popular_words) == 0:\n",
    "        popular_words = get_popular_words(df[column], n_top)\n",
    "    df = encode_language_column(df, column, popular_words)\n",
    "    df = df.drop([column], axis=1)\n",
    "    return df"
   ]
  },
  {
   "cell_type": "markdown",
   "id": "scenic-vegetation",
   "metadata": {},
   "source": [
    "#### Load train and test data  "
   ]
  },
  {
   "cell_type": "code",
   "execution_count": 10,
   "id": "reasonable-stations",
   "metadata": {},
   "outputs": [],
   "source": [
    "train = open_and_preprocess(\"train.csv\")"
   ]
  },
  {
   "cell_type": "code",
   "execution_count": 31,
   "id": "significant-theme",
   "metadata": {},
   "outputs": [
    {
     "data": {
      "text/html": [
       "<div>\n",
       "<style scoped>\n",
       "    .dataframe tbody tr th:only-of-type {\n",
       "        vertical-align: middle;\n",
       "    }\n",
       "\n",
       "    .dataframe tbody tr th {\n",
       "        vertical-align: top;\n",
       "    }\n",
       "\n",
       "    .dataframe thead th {\n",
       "        text-align: right;\n",
       "    }\n",
       "</style>\n",
       "<table border=\"1\" class=\"dataframe\">\n",
       "  <thead>\n",
       "    <tr style=\"text-align: right;\">\n",
       "      <th></th>\n",
       "      <th>newsdesk</th>\n",
       "      <th>section</th>\n",
       "      <th>material</th>\n",
       "      <th>keywords</th>\n",
       "      <th>word_count</th>\n",
       "      <th>is_popular</th>\n",
       "      <th>n_comments</th>\n",
       "      <th>week_day</th>\n",
       "      <th>pub_hour</th>\n",
       "    </tr>\n",
       "  </thead>\n",
       "  <tbody>\n",
       "    <tr>\n",
       "      <th>0</th>\n",
       "      <td>11.0</td>\n",
       "      <td>17.0</td>\n",
       "      <td>0.0</td>\n",
       "      <td>['Veterans', 'For-Profit Schools', 'Financial ...</td>\n",
       "      <td>680</td>\n",
       "      <td>1</td>\n",
       "      <td>186</td>\n",
       "      <td>2</td>\n",
       "      <td>0</td>\n",
       "    </tr>\n",
       "    <tr>\n",
       "      <th>1</th>\n",
       "      <td>15.0</td>\n",
       "      <td>7.0</td>\n",
       "      <td>4.0</td>\n",
       "      <td>['Crossword Puzzles']</td>\n",
       "      <td>931</td>\n",
       "      <td>1</td>\n",
       "      <td>257</td>\n",
       "      <td>2</td>\n",
       "      <td>3</td>\n",
       "    </tr>\n",
       "    <tr>\n",
       "      <th>2</th>\n",
       "      <td>41.0</td>\n",
       "      <td>22.0</td>\n",
       "      <td>4.0</td>\n",
       "      <td>['Meteors and Meteorites', 'Space and Astronom...</td>\n",
       "      <td>1057</td>\n",
       "      <td>0</td>\n",
       "      <td>6</td>\n",
       "      <td>2</td>\n",
       "      <td>5</td>\n",
       "    </tr>\n",
       "  </tbody>\n",
       "</table>\n",
       "</div>"
      ],
      "text/plain": [
       "   newsdesk  section  material  \\\n",
       "0      11.0     17.0       0.0   \n",
       "1      15.0      7.0       4.0   \n",
       "2      41.0     22.0       4.0   \n",
       "\n",
       "                                            keywords  word_count  is_popular  \\\n",
       "0  ['Veterans', 'For-Profit Schools', 'Financial ...         680           1   \n",
       "1                              ['Crossword Puzzles']         931           1   \n",
       "2  ['Meteors and Meteorites', 'Space and Astronom...        1057           0   \n",
       "\n",
       "   n_comments  week_day  pub_hour  \n",
       "0         186         2         0  \n",
       "1         257         2         3  \n",
       "2           6         2         5  "
      ]
     },
     "execution_count": 31,
     "metadata": {},
     "output_type": "execute_result"
    }
   ],
   "source": [
    "train.head(3)"
   ]
  },
  {
   "cell_type": "code",
   "execution_count": 14,
   "id": "atomic-cartoon",
   "metadata": {},
   "outputs": [
    {
     "name": "stdout",
     "output_type": "stream",
     "text": [
      "Index(['newsdesk', 'section', 'material', 'keywords', 'word_count',\n",
      "       'is_popular', 'n_comments', 'week_day', 'pub_hour'],\n",
      "      dtype='object')\n",
      "(12792, 9)\n",
      "[6444 6348]\n"
     ]
    }
   ],
   "source": [
    "print(train.columns)\n",
    "print(train.shape)\n",
    "\n",
    "y = train['is_popular']\n",
    "print(np.unique(y, return_counts=True)[1])"
   ]
  },
  {
   "cell_type": "code",
   "execution_count": 35,
   "id": "complimentary-mountain",
   "metadata": {},
   "outputs": [
    {
     "data": {
      "text/html": [
       "<div>\n",
       "<style scoped>\n",
       "    .dataframe tbody tr th:only-of-type {\n",
       "        vertical-align: middle;\n",
       "    }\n",
       "\n",
       "    .dataframe tbody tr th {\n",
       "        vertical-align: top;\n",
       "    }\n",
       "\n",
       "    .dataframe thead th {\n",
       "        text-align: right;\n",
       "    }\n",
       "</style>\n",
       "<table border=\"1\" class=\"dataframe\">\n",
       "  <thead>\n",
       "    <tr style=\"text-align: right;\">\n",
       "      <th></th>\n",
       "      <th>newsdesk</th>\n",
       "      <th>section</th>\n",
       "      <th>material</th>\n",
       "      <th>word_count</th>\n",
       "      <th>is_popular</th>\n",
       "      <th>n_comments</th>\n",
       "      <th>week_day</th>\n",
       "      <th>pub_hour</th>\n",
       "    </tr>\n",
       "  </thead>\n",
       "  <tbody>\n",
       "    <tr>\n",
       "      <th>count</th>\n",
       "      <td>12792.000000</td>\n",
       "      <td>12792.000000</td>\n",
       "      <td>12792.000000</td>\n",
       "      <td>12792.000000</td>\n",
       "      <td>12792.000000</td>\n",
       "      <td>12792.000000</td>\n",
       "      <td>12792.000000</td>\n",
       "      <td>12792.000000</td>\n",
       "    </tr>\n",
       "    <tr>\n",
       "      <th>mean</th>\n",
       "      <td>29.811366</td>\n",
       "      <td>20.993746</td>\n",
       "      <td>4.485225</td>\n",
       "      <td>1317.971467</td>\n",
       "      <td>0.496248</td>\n",
       "      <td>305.852955</td>\n",
       "      <td>2.361476</td>\n",
       "      <td>12.075672</td>\n",
       "    </tr>\n",
       "    <tr>\n",
       "      <th>std</th>\n",
       "      <td>16.829622</td>\n",
       "      <td>12.025575</td>\n",
       "      <td>1.487582</td>\n",
       "      <td>981.183253</td>\n",
       "      <td>0.500005</td>\n",
       "      <td>529.441431</td>\n",
       "      <td>1.680401</td>\n",
       "      <td>5.789973</td>\n",
       "    </tr>\n",
       "    <tr>\n",
       "      <th>min</th>\n",
       "      <td>0.000000</td>\n",
       "      <td>0.000000</td>\n",
       "      <td>0.000000</td>\n",
       "      <td>0.000000</td>\n",
       "      <td>0.000000</td>\n",
       "      <td>1.000000</td>\n",
       "      <td>0.000000</td>\n",
       "      <td>0.000000</td>\n",
       "    </tr>\n",
       "    <tr>\n",
       "      <th>25%</th>\n",
       "      <td>14.000000</td>\n",
       "      <td>13.000000</td>\n",
       "      <td>4.000000</td>\n",
       "      <td>874.000000</td>\n",
       "      <td>0.000000</td>\n",
       "      <td>21.000000</td>\n",
       "      <td>1.000000</td>\n",
       "      <td>9.000000</td>\n",
       "    </tr>\n",
       "    <tr>\n",
       "      <th>50%</th>\n",
       "      <td>33.000000</td>\n",
       "      <td>19.000000</td>\n",
       "      <td>4.000000</td>\n",
       "      <td>1183.000000</td>\n",
       "      <td>0.000000</td>\n",
       "      <td>88.000000</td>\n",
       "      <td>2.000000</td>\n",
       "      <td>10.000000</td>\n",
       "    </tr>\n",
       "    <tr>\n",
       "      <th>75%</th>\n",
       "      <td>41.000000</td>\n",
       "      <td>35.000000</td>\n",
       "      <td>4.000000</td>\n",
       "      <td>1508.000000</td>\n",
       "      <td>1.000000</td>\n",
       "      <td>335.000000</td>\n",
       "      <td>4.000000</td>\n",
       "      <td>16.000000</td>\n",
       "    </tr>\n",
       "    <tr>\n",
       "      <th>max</th>\n",
       "      <td>61.000000</td>\n",
       "      <td>40.000000</td>\n",
       "      <td>9.000000</td>\n",
       "      <td>12947.000000</td>\n",
       "      <td>1.000000</td>\n",
       "      <td>8987.000000</td>\n",
       "      <td>6.000000</td>\n",
       "      <td>23.000000</td>\n",
       "    </tr>\n",
       "  </tbody>\n",
       "</table>\n",
       "</div>"
      ],
      "text/plain": [
       "           newsdesk       section      material    word_count    is_popular  \\\n",
       "count  12792.000000  12792.000000  12792.000000  12792.000000  12792.000000   \n",
       "mean      29.811366     20.993746      4.485225   1317.971467      0.496248   \n",
       "std       16.829622     12.025575      1.487582    981.183253      0.500005   \n",
       "min        0.000000      0.000000      0.000000      0.000000      0.000000   \n",
       "25%       14.000000     13.000000      4.000000    874.000000      0.000000   \n",
       "50%       33.000000     19.000000      4.000000   1183.000000      0.000000   \n",
       "75%       41.000000     35.000000      4.000000   1508.000000      1.000000   \n",
       "max       61.000000     40.000000      9.000000  12947.000000      1.000000   \n",
       "\n",
       "         n_comments      week_day      pub_hour  \n",
       "count  12792.000000  12792.000000  12792.000000  \n",
       "mean     305.852955      2.361476     12.075672  \n",
       "std      529.441431      1.680401      5.789973  \n",
       "min        1.000000      0.000000      0.000000  \n",
       "25%       21.000000      1.000000      9.000000  \n",
       "50%       88.000000      2.000000     10.000000  \n",
       "75%      335.000000      4.000000     16.000000  \n",
       "max     8987.000000      6.000000     23.000000  "
      ]
     },
     "execution_count": 35,
     "metadata": {},
     "output_type": "execute_result"
    }
   ],
   "source": [
    "train.describe()"
   ]
  },
  {
   "cell_type": "code",
   "execution_count": 38,
   "id": "filled-sample",
   "metadata": {},
   "outputs": [
    {
     "data": {
      "text/plain": [
       "Text(0.5, 1.0, 'Distribution of comments')"
      ]
     },
     "execution_count": 38,
     "metadata": {},
     "output_type": "execute_result"
    },
    {
     "data": {
      "image/png": "[encoded data removed]",
      "text/plain": [
       "<Figure size 800x640 with 1 Axes>"
      ]
     },
     "metadata": {
      "needs_background": "light"
     },
     "output_type": "display_data"
    }
   ],
   "source": [
    "plt.figure(figsize=(10, 8), dpi=80)\n",
    "sns.histplot(data=train[train[\"n_comments\"] < 2000], x=\"n_comments\", binwidth=90)\n",
    "plt.title(\"Distribution of comments\")"
   ]
  },
  {
   "cell_type": "code",
   "execution_count": 43,
   "id": "wired-dairy",
   "metadata": {},
   "outputs": [],
   "source": [
    "df = pd.read_csv('train.csv')"
   ]
  },
  {
   "cell_type": "code",
   "execution_count": null,
   "id": "swiss-calculator",
   "metadata": {},
   "outputs": [],
   "source": [
    "process_column(df, 'keywords', 50)"
   ]
  },
  {
   "cell_type": "code",
   "execution_count": 59,
   "id": "patent-church",
   "metadata": {},
   "outputs": [
    {
     "data": {
      "text/plain": [
       "<AxesSubplot:ylabel='newsdesk'>"
      ]
     },
     "execution_count": 59,
     "metadata": {},
     "output_type": "execute_result"
    },
    {
     "data": {
      "image/png": "[encoded data removed]",
      "text/plain": [
       "<Figure size 800x640 with 1 Axes>"
      ]
     },
     "metadata": {
      "needs_background": "light"
     },
     "output_type": "display_data"
    }
   ],
   "source": [
    "plt.figure(figsize=(10, 8), dpi=80)\n",
    "train.groupby('newsdesk')['is_popular'].sum().nlargest(10).sort_values().plot(kind='barh')"
   ]
  },
  {
   "cell_type": "code",
   "execution_count": 60,
   "id": "stupid-actress",
   "metadata": {},
   "outputs": [
    {
     "data": {
      "text/plain": [
       "<AxesSubplot:ylabel='section'>"
      ]
     },
     "execution_count": 60,
     "metadata": {},
     "output_type": "execute_result"
    },
    {
     "data": {
      "image/png": "[encoded data removed]",
      "text/plain": [
       "<Figure size 800x640 with 1 Axes>"
      ]
     },
     "metadata": {
      "needs_background": "light"
     },
     "output_type": "display_data"
    }
   ],
   "source": [
    "plt.figure(figsize=(10, 8), dpi=80)\n",
    "train.groupby('section')['is_popular'].sum().nlargest(10).sort_values().plot(kind='barh')"
   ]
  },
  {
   "cell_type": "code",
   "execution_count": 99,
   "id": "unlimited-checkout",
   "metadata": {},
   "outputs": [
    {
     "data": {
      "text/plain": [
       "<AxesSubplot:xlabel='week_day', ylabel='n_comments'>"
      ]
     },
     "execution_count": 99,
     "metadata": {},
     "output_type": "execute_result"
    },
    {
     "data": {
      "image/png": "[encoded data removed]",
      "text/plain": [
       "<Figure size 800x640 with 1 Axes>"
      ]
     },
     "metadata": {
      "needs_background": "light"
     },
     "output_type": "display_data"
    }
   ],
   "source": [
    "plt.figure(figsize=(10, 8), dpi=80)\n",
    "sns.boxplot(x=\"week_day\", y=\"n_comments\", data=train[train[\"n_comments\"] < 1500])"
   ]
  },
  {
   "cell_type": "code",
   "execution_count": null,
   "id": "tribal-attempt",
   "metadata": {},
   "outputs": [],
   "source": []
  },
  {
   "cell_type": "raw",
   "id": "scientific-therapy",
   "metadata": {},
   "source": []
  }
 ],
 "metadata": {
  "kernelspec": {
   "display_name": "Python 3",
   "language": "python",
   "name": "python3"
  },
  "language_info": {
   "codemirror_mode": {
    "name": "ipython",
    "version": 3
   },
   "file_extension": ".py",
   "mimetype": "text/x-python",
   "name": "python",
   "nbconvert_exporter": "python",
   "pygments_lexer": "ipython3",
   "version": "3.9.1"
  }
 },
 "nbformat": 4,
 "nbformat_minor": 5
}
